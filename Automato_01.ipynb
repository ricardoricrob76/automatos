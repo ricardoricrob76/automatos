{
  "nbformat": 4,
  "nbformat_minor": 0,
  "metadata": {
    "colab": {
      "provenance": []
    },
    "kernelspec": {
      "name": "python3",
      "display_name": "Python 3"
    },
    "language_info": {
      "name": "python"
    }
  },
  "cells": [
    {
      "cell_type": "code",
      "execution_count": 1,
      "metadata": {
        "id": "kT90cbs0IGeO"
      },
      "outputs": [],
      "source": [
        "# Introdução a Teoria da Computação - Primeiro Cenário e Estudos de Caso..\n"
      ]
    },
    {
      "cell_type": "markdown",
      "source": [
        "**Autor: Ricardo Roberto de Lima - Validação 001.. - Teoria da Computação:**\n",
        "\n",
        "**Cenário:**\n",
        "Suponha que você está desenvolvendo um sistema simples de validação de senhas para um aplicativo. A regra é que a senha deve:\n",
        "\n",
        "* Ter exatamente 6 caracteres.\n",
        "* Iniciar com uma letra maiúscula.\n",
        "* Os cinco caracteres seguintes devem ser dígitos.\n",
        "\n",
        "Nosso objetivo é criar um autômato finito determinístico (AFD) que valide se uma senha atende a esses critérios."
      ],
      "metadata": {
        "id": "mFfm_x-oIPEt"
      }
    },
    {
      "cell_type": "code",
      "source": [],
      "metadata": {
        "id": "7Van27IHIbP5"
      },
      "execution_count": null,
      "outputs": []
    },
    {
      "cell_type": "markdown",
      "source": [
        "Passos para a Solução\n",
        "Definição dos Estados: **negrito**\n",
        "\n",
        "𝑞\n",
        "0\n",
        "q\n",
        "0\n",
        "​\n",
        " : Estado inicial, onde a validação começa.\n",
        "𝑞\n",
        "1\n",
        "q\n",
        "1\n",
        "​\n",
        " : Após o primeiro caractere (espera-se uma letra maiúscula).\n",
        "𝑞\n",
        "2\n",
        "q\n",
        "2\n",
        "​\n",
        " : Após o segundo caractere (espera-se um dígito).\n",
        "𝑞\n",
        "3\n",
        "q\n",
        "3\n",
        "​\n",
        " : Após o terceiro caractere (espera-se um dígito).\n",
        "𝑞\n",
        "4\n",
        "q\n",
        "4\n",
        "​\n",
        " : Após o quarto caractere (espera-se um dígito).\n",
        "𝑞\n",
        "5\n",
        "q\n",
        "5\n",
        "​\n",
        " : Após o quinto caractere (espera-se um dígito).\n",
        "𝑞\n",
        "6\n",
        "q\n",
        "6\n",
        "​\n",
        " : Após o sexto caractere (espera-se um dígito).\n",
        "𝑞\n",
        "aceita\n",
        "q\n",
        "aceita\n",
        "​\n",
        " : Estado de aceitação, onde a senha é considerada válida.\n",
        "𝑞\n",
        "rejeita\n",
        "q\n",
        "rejeita\n",
        "​\n",
        " : Estado de rejeição, onde a senha é considerada inválida.\n",
        "Alfabeto:\n",
        "\n",
        "Letras maiúsculas:\n",
        "𝐴\n",
        ",\n",
        "𝐵\n",
        ",\n",
        "𝐶\n",
        ",\n",
        ".\n",
        ".\n",
        ".\n",
        ",\n",
        "𝑍\n",
        "A,B,C,...,Z\n",
        "Dígitos:\n",
        "0\n",
        ",\n",
        "1\n",
        ",\n",
        "2\n",
        ",\n",
        ".\n",
        ".\n",
        ".\n",
        ",\n",
        "9\n",
        "0,1,2,...,9\n",
        "Função de Transição:\n",
        "\n",
        "De\n",
        "𝑞\n",
        "0\n",
        "q\n",
        "0\n",
        "​\n",
        "  para\n",
        "𝑞\n",
        "1\n",
        "q\n",
        "1\n",
        "​\n",
        " : Se o caractere é uma letra maiúscula.\n",
        "De\n",
        "𝑞\n",
        "1\n",
        "q\n",
        "1\n",
        "​\n",
        "  para\n",
        "𝑞\n",
        "2\n",
        "q\n",
        "2\n",
        "​\n",
        " : Se o caractere é um dígito.\n",
        "De\n",
        "𝑞\n",
        "2\n",
        "q\n",
        "2\n",
        "​\n",
        "  para\n",
        "𝑞\n",
        "3\n",
        "q\n",
        "3\n",
        "​\n",
        " : Se o caractere é um dígito.\n",
        "De\n",
        "𝑞\n",
        "3\n",
        "q\n",
        "3\n",
        "​\n",
        "  para\n",
        "𝑞\n",
        "4\n",
        "q\n",
        "4\n",
        "​\n",
        " : Se o caractere é um dígito.\n",
        "De\n",
        "𝑞\n",
        "4\n",
        "q\n",
        "4\n",
        "​\n",
        "  para\n",
        "𝑞\n",
        "5\n",
        "q\n",
        "5\n",
        "​\n",
        " : Se o caractere é um dígito.\n",
        "De\n",
        "𝑞\n",
        "5\n",
        "q\n",
        "5\n",
        "​\n",
        "  para\n",
        "𝑞\n",
        "6\n",
        "q\n",
        "6\n",
        "​\n",
        " : Se o caractere é um dígito.\n",
        "De\n",
        "𝑞\n",
        "6\n",
        "q\n",
        "6\n",
        "​\n",
        "  para\n",
        "𝑞\n",
        "aceita\n",
        "q\n",
        "aceita\n",
        "​\n",
        " : Se o caractere final é um dígito.\n",
        "Qualquer transição inválida leva ao estado\n",
        "𝑞\n",
        "rejeita\n",
        "q\n",
        "rejeita\n",
        "​\n",
        " ."
      ],
      "metadata": {
        "id": "dn44AMLiIwm9"
      }
    },
    {
      "cell_type": "code",
      "source": [
        "# Diagrama de Automato 01"
      ],
      "metadata": {
        "id": "1ZrLGIJDIy-N"
      },
      "execution_count": null,
      "outputs": []
    },
    {
      "cell_type": "markdown",
      "source": [
        "q0 --[Letra Maiúscula]--> q1 --[Dígito]--> q2 --[Dígito]--> q3 --[Dígito]--> q4 --[Dígito]--> q5 --[Dígito]--> q6 --[Dígito]--> q_aceita\n",
        "Qualquer outra entrada --> q_rejeita\n"
      ],
      "metadata": {
        "id": "NrAo9C7wJh-q"
      }
    },
    {
      "cell_type": "code",
      "source": [
        "def valida_senha(senha):\n",
        "    estado = 'q0'\n",
        "\n",
        "    for char in senha:\n",
        "        if estado == 'q0':\n",
        "            if char.isupper():\n",
        "                estado = 'q1'\n",
        "            else:\n",
        "                estado = 'q_rejeita'\n",
        "                break\n",
        "        elif estado == 'q1':\n",
        "            if char.isdigit():\n",
        "                estado = 'q2'\n",
        "            else:\n",
        "                estado = 'q_rejeita'\n",
        "                break\n",
        "        elif estado == 'q2':\n",
        "            if char.isdigit():\n",
        "                estado = 'q3'\n",
        "            else:\n",
        "                estado = 'q_rejeita'\n",
        "                break\n",
        "        elif estado == 'q3':\n",
        "            if char.isdigit():\n",
        "                estado = 'q4'\n",
        "            else:\n",
        "                estado = 'q_rejeita'\n",
        "                break\n",
        "        elif estado == 'q4':\n",
        "            if char.isdigit():\n",
        "                estado = 'q5'\n",
        "            else:\n",
        "                estado = 'q_rejeita'\n",
        "                break\n",
        "        elif estado == 'q5':\n",
        "            if char.isdigit():\n",
        "                estado = 'q6'\n",
        "            else:\n",
        "                estado = 'q_rejeita'\n",
        "                break\n",
        "\n",
        "    if estado == 'q6':\n",
        "        return \"Senha válida!\"\n",
        "    else:\n",
        "        return \"Senha inválida!\"\n",
        "\n",
        "# Testes\n",
        "print(valida_senha(\"A12345\"))  # Senha válida!\n",
        "print(valida_senha(\"a12345\"))  # Senha inválida!\n",
        "print(valida_senha(\"A1234\"))   # Senha inválida!\n",
        "print(valida_senha(\"A12356\")) # Senha válida!\n"
      ],
      "metadata": {
        "colab": {
          "base_uri": "https://localhost:8080/"
        },
        "id": "3GzY54hPJi6Y",
        "outputId": "84b79b48-aa2f-4295-af14-dfc1daacdeef"
      },
      "execution_count": 4,
      "outputs": [
        {
          "output_type": "stream",
          "name": "stdout",
          "text": [
            "Senha válida!\n",
            "Senha inválida!\n",
            "Senha inválida!\n",
            "Senha válida!\n"
          ]
        }
      ]
    },
    {
      "cell_type": "markdown",
      "source": [
        "**Explicação do Código**\n",
        "\n",
        "*   Função valida_senha: Simula o funcionamento de um autômato finito determinístico (AFD).\n",
        "*   Estados: O estado inicial é q0, e o estado de aceitação final é q6.\n",
        "*   Transições: Cada caractere da senha determina a transição de um estado para o outro.\n",
        "*   Saída: Retorna \"Senha válida!\" se o autômato alcança o estado q6, caso contrário, retorna \"Senha inválida!\".\n"
      ],
      "metadata": {
        "id": "peGrl5b0KMp0"
      }
    },
    {
      "cell_type": "markdown",
      "source": [
        "**Conclusão**\n",
        "\n",
        "Este exemplo ilustra como um autômato finito pode ser usado para resolver problemas práticos, como a validação de senhas, fornecendo uma abordagem formal e sistemática para garantir que os requisitos sejam atendidos.\n",
        "\n",
        "**Autor:** Profº Ricardo Roberto de Lima"
      ],
      "metadata": {
        "id": "eOqEv9CeKhck"
      }
    },
    {
      "cell_type": "code",
      "source": [],
      "metadata": {
        "id": "NGRvAo-xKdwd"
      },
      "execution_count": null,
      "outputs": []
    }
  ]
}