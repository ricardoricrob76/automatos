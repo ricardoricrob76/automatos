{
  "nbformat": 4,
  "nbformat_minor": 0,
  "metadata": {
    "colab": {
      "provenance": []
    },
    "kernelspec": {
      "name": "python3",
      "display_name": "Python 3"
    },
    "language_info": {
      "name": "python"
    }
  },
  "cells": [
    {
      "cell_type": "code",
      "execution_count": null,
      "metadata": {
        "id": "QEJG0bxuW_gV"
      },
      "outputs": [],
      "source": []
    },
    {
      "cell_type": "markdown",
      "source": [
        "**Autor: Ricardo Roberto de Lima - Automato Indefinido - Teoria da Computação**\n",
        "\n",
        "**Cenário:**\n",
        "\n",
        "Vamos considerar um exemplo relacionado ao monitoramento de sistemas. Imagine que você está desenvolvendo um sistema para monitorar as operações de um servidor que está constantemente processando requisições. Queremos monitorar se o servidor eventualmente entra em um estado de \"sobrecarregamento\" após processar uma sequência infinita de requisições.\n",
        "\n",
        "O problema que queremos resolver é o seguinte: Monitorar se o servidor permanece dentro dos limites aceitáveis de carga ao longo de uma execução infinita. Um autômato infinito pode ser usado para modelar essa situação."
      ],
      "metadata": {
        "id": "U0WrXnVuXDF7"
      }
    },
    {
      "cell_type": "markdown",
      "source": [
        "**Passos para a Solução**\n",
        "\n",
        "Definição dos Estados:\n",
        "\n",
        "𝑞\n",
        "0\n",
        "q\n",
        "0\n",
        "​\n",
        " : Estado inicial, representando um sistema ocioso (sem carga).\n",
        "𝑞\n",
        "low\n",
        "q\n",
        "low\n",
        "​\n",
        " : Estado de baixa carga, representando um sistema operando normalmente.\n",
        "𝑞\n",
        "med\n",
        "q\n",
        "med\n",
        "​\n",
        " : Estado de carga média, onde o sistema está sob carga, mas ainda dentro dos limites aceitáveis.\n",
        "𝑞\n",
        "high\n",
        "q\n",
        "high\n",
        "​\n",
        " : Estado de alta carga, onde o sistema está em risco de sobrecarregamento.\n",
        "𝑞\n",
        "overload\n",
        "q\n",
        "overload\n",
        "​\n",
        " : Estado de sobrecarga, onde o sistema está sobrecarregado e não pode processar mais requisições.\n",
        "Alfabeto:\n",
        "\n",
        "𝑅\n",
        "low\n",
        "R\n",
        "low\n",
        "​\n",
        " : Requisição que resulta em baixa carga.\n",
        "𝑅\n",
        "med\n",
        "R\n",
        "med\n",
        "​\n",
        " : Requisição que resulta em carga média.\n",
        "𝑅\n",
        "high\n",
        "R\n",
        "high\n",
        "​\n",
        " : Requisição que resulta em alta carga.\n",
        "𝑅\n",
        "none\n",
        "R\n",
        "none\n",
        "​\n",
        " : Nenhuma requisição, o sistema permanece em seu estado atual.\n",
        "Função de Transição:\n",
        "\n",
        "De\n",
        "𝑞\n",
        "0\n",
        "q\n",
        "0\n",
        "​\n",
        "  para\n",
        "𝑞\n",
        "low\n",
        "q\n",
        "low\n",
        "​\n",
        " : Com\n",
        "𝑅\n",
        "low\n",
        "R\n",
        "low\n",
        "​\n",
        " .\n",
        "De\n",
        "𝑞\n",
        "low\n",
        "q\n",
        "low\n",
        "​\n",
        "  para\n",
        "𝑞\n",
        "low\n",
        "q\n",
        "low\n",
        "​\n",
        " : Com\n",
        "𝑅\n",
        "low\n",
        "R\n",
        "low\n",
        "​\n",
        " .\n",
        "De\n",
        "𝑞\n",
        "low\n",
        "q\n",
        "low\n",
        "​\n",
        "  para\n",
        "𝑞\n",
        "med\n",
        "q\n",
        "med\n",
        "​\n",
        " : Com\n",
        "𝑅\n",
        "med\n",
        "R\n",
        "med\n",
        "​\n",
        " .\n",
        "De\n",
        "𝑞\n",
        "med\n",
        "q\n",
        "med\n",
        "​\n",
        "  para\n",
        "𝑞\n",
        "high\n",
        "q\n",
        "high\n",
        "​\n",
        " : Com\n",
        "𝑅\n",
        "high\n",
        "R\n",
        "high\n",
        "​\n",
        " .\n",
        "De\n",
        "𝑞\n",
        "high\n",
        "q\n",
        "high\n",
        "​\n",
        "  para\n",
        "𝑞\n",
        "overload\n",
        "q\n",
        "overload\n",
        "​\n",
        " : Com\n",
        "𝑅\n",
        "high\n",
        "R\n",
        "high\n",
        "​\n",
        " .\n",
        "De qualquer estado para\n",
        "𝑞\n",
        "0\n",
        "q\n",
        "0\n",
        "​\n",
        " : Com\n",
        "𝑅\n",
        "none\n",
        "R\n",
        "none\n",
        "​\n",
        "  (reinício do sistema).\n",
        "De\n",
        "𝑞\n",
        "overload\n",
        "q\n",
        "overload\n",
        "​\n",
        "  para si mesmo com qualquer requisição, pois o sistema não pode sair desse estado sem intervenção."
      ],
      "metadata": {
        "id": "vaW2TaU-XkKY"
      }
    },
    {
      "cell_type": "code",
      "source": [
        "# Diagrama do Automato..\n",
        "\n",
        "# q0 --[R_low]--> q_low --[R_low]--> q_low --[R_med]--> q_med --[R_high]--> q_high --[R_high]--> q_overload\n",
        "#               ^                  |\n",
        "#                  |--[R_none]--------|\n"
      ],
      "metadata": {
        "id": "fqPVkVcPXPf2"
      },
      "execution_count": 3,
      "outputs": []
    },
    {
      "cell_type": "code",
      "source": [
        "def monitorar_servidor(requisicoes):\n",
        "    estado = 'q0'\n",
        "\n",
        "    for req in requisicoes:\n",
        "        if estado == 'q0':\n",
        "            if req == 'R_low':\n",
        "                estado = 'q_low'\n",
        "            elif req == 'R_none':\n",
        "                estado = 'q0'\n",
        "            else:\n",
        "                estado = 'q_overload'\n",
        "                break\n",
        "        elif estado == 'q_low':\n",
        "            if req == 'R_low':\n",
        "                estado = 'q_low'\n",
        "            elif req == 'R_med':\n",
        "                estado = 'q_med'\n",
        "            elif req == 'R_none':\n",
        "                estado = 'q0'\n",
        "            else:\n",
        "                estado = 'q_overload'\n",
        "                break\n",
        "        elif estado == 'q_med':\n",
        "            if req == 'R_high':\n",
        "                estado = 'q_high'\n",
        "            elif req == 'R_none':\n",
        "                estado = 'q0'\n",
        "            else:\n",
        "                estado = 'q_overload'\n",
        "                break\n",
        "        elif estado == 'q_high':\n",
        "            if req == 'R_high':\n",
        "                estado = 'q_overload'\n",
        "            elif req == 'R_none':\n",
        "                estado = 'q0'\n",
        "            else:\n",
        "                estado = 'q_overload'\n",
        "                break\n",
        "\n",
        "    if estado == 'q_overload':\n",
        "        return \"Servidor sobrecarregado!\"\n",
        "    else:\n",
        "        return \"Servidor dentro dos limites.\"\n",
        "\n",
        "# Testes\n",
        "print(monitorar_servidor(['R_low', 'R_med', 'R_high', 'R_high']))  # Servidor sobrecarregado!\n",
        "print(monitorar_servidor(['R_low', 'R_low', 'R_med', 'R_none']))    # Servidor dentro dos limites.\n",
        "print(monitorar_servidor(['R_low', 'R_med', 'R_none', 'R_low']))    # Servidor dentro dos limites.\n"
      ],
      "metadata": {
        "colab": {
          "base_uri": "https://localhost:8080/"
        },
        "id": "xiXAPsbRXyNd",
        "outputId": "027d6974-2e9a-4a72-b19f-1d6e3586054e"
      },
      "execution_count": 4,
      "outputs": [
        {
          "output_type": "stream",
          "name": "stdout",
          "text": [
            "Servidor sobrecarregado!\n",
            "Servidor dentro dos limites.\n",
            "Servidor dentro dos limites.\n"
          ]
        }
      ]
    },
    {
      "cell_type": "code",
      "source": [],
      "metadata": {
        "id": "JTZhR0qOYAK3"
      },
      "execution_count": null,
      "outputs": []
    },
    {
      "cell_type": "markdown",
      "source": [
        "**Explicação do Código:**\n",
        "\n",
        "* Função monitorar_servidor: Simula um autômato que monitora a carga do servidor em um cenário de execução infinita.\n",
        "\n",
        "* Estados: O servidor começa no estado ocioso (q0) e pode mover-se para estados de maior carga à medida que processa requisições.\n",
        "\n",
        "* Transições: As requisições determinam como o servidor muda de estado. Se a carga excede os limites (estado q_high seguido de outra requisição de alta carga), o servidor entra no estado de sobrecarga (q_overload).\n",
        "\n",
        "* Saída: O sistema indica se o servidor foi sobrecarregado ou se permaneceu dentro dos limites aceitáveis."
      ],
      "metadata": {
        "id": "OVYxNONpYJ4P"
      }
    },
    {
      "cell_type": "code",
      "source": [],
      "metadata": {
        "id": "zTAB5luGYLGb"
      },
      "execution_count": null,
      "outputs": []
    },
    {
      "cell_type": "markdown",
      "source": [
        "**Conclusão:**\n",
        "\n",
        "Este exemplo ilustra como autômatos infinitos podem ser usados para monitorar e gerenciar sistemas que operam de forma contínua, como servidores que processam requisições sem interrupção. Em um cenário real, isso pode ser aplicado para a verificação de propriedades de sistemas distribuídos, onde o comportamento é monitorado ao longo de uma execução potencialmente infinita, como verificar se um sistema nunca entra em um estado de falha irreversível."
      ],
      "metadata": {
        "id": "R7mr1UY2YSMF"
      }
    },
    {
      "cell_type": "code",
      "source": [
        "# Autor: Ricardo Roberto de Lima - Teoria da Computação (Módulo Inicial - Automato Infinitos)"
      ],
      "metadata": {
        "id": "ix5caWu0YVI_"
      },
      "execution_count": null,
      "outputs": []
    }
  ]
}