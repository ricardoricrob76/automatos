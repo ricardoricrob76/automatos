{
  "nbformat": 4,
  "nbformat_minor": 0,
  "metadata": {
    "colab": {
      "provenance": []
    },
    "kernelspec": {
      "name": "python3",
      "display_name": "Python 3"
    },
    "language_info": {
      "name": "python"
    }
  },
  "cells": [
    {
      "cell_type": "code",
      "execution_count": null,
      "metadata": {
        "id": "xrnjml9ZLfXl"
      },
      "outputs": [],
      "source": []
    },
    {
      "cell_type": "markdown",
      "source": [
        "**Autor: Ricardo Roberto de Lima..** - Teoria da Computação..\n",
        "\n",
        "**Cenário**\n",
        "\n",
        "Imagine que você está desenvolvendo um analisador léxico simples para uma linguagem de programação básica. Uma das tarefas desse analisador é identificar números inteiros e números de ponto flutuante em um código-fonte. As regras são as seguintes:\n",
        "\n",
        "* Números inteiros: Consistem apenas de dígitos (0-9).\n",
        "* Números de ponto flutuante: Devem ter uma parte inteira, um ponto decimal e uma parte fracionária, onde tanto a parte inteira quanto a fracionária são compostas por dígitos.\n",
        "\n",
        "** Nosso objetivo é criar um autômato regular que identifique esses dois tipos de números. **"
      ],
      "metadata": {
        "id": "rjC4PVSCLyq6"
      }
    },
    {
      "cell_type": "markdown",
      "source": [
        "**Passos para a Solução**\n",
        "\n",
        "Definição dos Estados:\n",
        "\n",
        "𝑞\n",
        "0\n",
        "q\n",
        "0\n",
        "​\n",
        " : Estado inicial.\n",
        "𝑞\n",
        "1\n",
        "q\n",
        "1\n",
        "​\n",
        " : Estado após a leitura de dígitos (potencialmente um número inteiro).\n",
        "𝑞\n",
        "2\n",
        "q\n",
        "2\n",
        "​\n",
        " : Estado após a leitura do ponto decimal.\n",
        "𝑞\n",
        "3\n",
        "q\n",
        "3\n",
        "​\n",
        " : Estado após a leitura de dígitos na parte fracionária (potencialmente um número de ponto flutuante).\n",
        "𝑞\n",
        "aceita_inteiro\n",
        "q\n",
        "aceita_inteiro\n",
        "​\n",
        " : Estado de aceitação para números inteiros.\n",
        "𝑞\n",
        "aceita_flutuante\n",
        "q\n",
        "aceita_flutuante\n",
        "​\n",
        " : Estado de aceitação para números de ponto flutuante.\n",
        "𝑞\n",
        "rejeita\n",
        "q\n",
        "rejeita\n",
        "​\n",
        " : Estado de rejeição para strings que não correspondem a números válidos.\n",
        "Alfabeto:\n",
        "\n",
        "Dígitos:\n",
        "0\n",
        ",\n",
        "1\n",
        ",\n",
        "2\n",
        ",\n",
        ".\n",
        ".\n",
        ".\n",
        ",\n",
        "9\n",
        "0,1,2,...,9\n",
        "Ponto decimal:\n",
        ".\n",
        ".\n",
        "Função de Transição:\n",
        "\n",
        "De\n",
        "𝑞\n",
        "0\n",
        "q\n",
        "0\n",
        "​\n",
        "  para\n",
        "𝑞\n",
        "1\n",
        "q\n",
        "1\n",
        "​\n",
        " : Se o caractere é um dígito.\n",
        "De\n",
        "𝑞\n",
        "1\n",
        "q\n",
        "1\n",
        "​\n",
        "  para\n",
        "𝑞\n",
        "1\n",
        "q\n",
        "1\n",
        "​\n",
        " : Se o caractere é um dígito (continua formando um número inteiro).\n",
        "De\n",
        "𝑞\n",
        "1\n",
        "q\n",
        "1\n",
        "​\n",
        "  para\n",
        "𝑞\n",
        "2\n",
        "q\n",
        "2\n",
        "​\n",
        " : Se o caractere é um ponto decimal.\n",
        "De\n",
        "𝑞\n",
        "2\n",
        "q\n",
        "2\n",
        "​\n",
        "  para\n",
        "𝑞\n",
        "3\n",
        "q\n",
        "3\n",
        "​\n",
        " : Se o caractere é um dígito (começa a parte fracionária).\n",
        "De\n",
        "𝑞\n",
        "3\n",
        "q\n",
        "3\n",
        "​\n",
        "  para\n",
        "𝑞\n",
        "3\n",
        "q\n",
        "3\n",
        "​\n",
        " : Se o caractere é um dígito (continua a parte fracionária).\n",
        "𝑞\n",
        "1\n",
        "q\n",
        "1\n",
        "​\n",
        "  e\n",
        "𝑞\n",
        "3\n",
        "q\n",
        "3\n",
        "​\n",
        "  são estados de aceitação para inteiros e números de ponto flutuante, respectivamente.\n",
        "Qualquer outra entrada ou sequência leva ao estado\n",
        "𝑞\n",
        "rejeita\n",
        "q\n",
        "rejeita\n",
        "​\n",
        " ."
      ],
      "metadata": {
        "id": "LMkkUDHLMNja"
      }
    },
    {
      "cell_type": "markdown",
      "source": [
        "**Diagrama da Solução: -Lógica-**\n",
        "\n",
        "q0 --[Dígito]--> q1 --[Dígito]--> q1 --[Ponto Decimal]--> q2 --[Dígito]--> q3 --[Dígito]--> q3\n",
        "   (aceita inteiro)                 (aceita flutuante)\n",
        "Qualquer outra entrada --> q_rejeita\n"
      ],
      "metadata": {
        "id": "wZwNiW6TMY82"
      }
    },
    {
      "cell_type": "markdown",
      "source": [],
      "metadata": {
        "id": "ONfLnbJ-MNh1"
      }
    },
    {
      "cell_type": "code",
      "source": [
        "def reconhece_numero(string):\n",
        "    estado = 'q0'\n",
        "\n",
        "    for char in string:\n",
        "        if estado == 'q0':\n",
        "            if char.isdigit():\n",
        "                estado = 'q1'\n",
        "            else:\n",
        "                estado = 'q_rejeita'\n",
        "                break\n",
        "        elif estado == 'q1':\n",
        "            if char.isdigit():\n",
        "                estado = 'q1'\n",
        "            elif char == '.':\n",
        "                estado = 'q2'\n",
        "            else:\n",
        "                estado = 'q_rejeita'\n",
        "                break\n",
        "        elif estado == 'q2':\n",
        "            if char.isdigit():\n",
        "                estado = 'q3'\n",
        "            else:\n",
        "                estado = 'q_rejeita'\n",
        "                break\n",
        "        elif estado == 'q3':\n",
        "            if char.isdigit():\n",
        "                estado = 'q3'\n",
        "            else:\n",
        "                estado = 'q_rejeita'\n",
        "                break\n",
        "\n",
        "    if estado in ['q1', 'q3']:\n",
        "        return \"Número válido!\"\n",
        "    else:\n",
        "        return \"Número inválido!\"\n",
        "\n",
        "# Testes\n",
        "print(reconhece_numero(\"123\"))       # Número válido! (inteiro)\n",
        "print(reconhece_numero(\"456.789\"))   # Número válido! (flutuante)\n",
        "print(reconhece_numero(\"12.34.56\"))  # Número inválido!\n",
        "print(reconhece_numero(\"abc\"))       # Número inválido!\n"
      ],
      "metadata": {
        "colab": {
          "base_uri": "https://localhost:8080/"
        },
        "id": "rJtc-aNvL-5N",
        "outputId": "fdea1092-2556-47f9-efc5-f4bb02407d93"
      },
      "execution_count": 2,
      "outputs": [
        {
          "output_type": "stream",
          "name": "stdout",
          "text": [
            "Número válido!\n",
            "Número válido!\n",
            "Número inválido!\n",
            "Número inválido!\n"
          ]
        }
      ]
    },
    {
      "cell_type": "markdown",
      "source": [
        "**Explicação do Código**\n",
        "\n",
        "* Função reconhece_numero: Implementa um autômato regular para reconhecer números inteiros e de ponto flutuante.\n",
        "\n",
        "* Estados: Começa em q0 e avança para q1 para números inteiros ou q3 para números de ponto flutuante.\n",
        "\n",
        "* Transições: Baseadas em dígitos e ponto decimal, com transições específicas que determinam se a entrada é um número válido.\n",
        "\n",
        "* Saída: Retorna \"Número válido!\" se a string termina em q1 (inteiro) ou q3 (flutuante); caso contrário, retorna \"Número inválido!\".\n"
      ],
      "metadata": {
        "id": "27he2FibM1qC"
      }
    },
    {
      "cell_type": "markdown",
      "source": [
        "**Conclusão:**\n",
        "\n",
        "Este exemplo demonstra como autômatos regulares podem ser usados para resolver problemas mais complexos de reconhecimento de padrões, como a identificação de números em uma string. Esse conceito é fundamental na construção de compiladores e analisadores léxicos, onde a validação de tokens é essencial para a interpretação correta do código."
      ],
      "metadata": {
        "id": "FDPb5p3mNAga"
      }
    },
    {
      "cell_type": "markdown",
      "source": [],
      "metadata": {
        "id": "LCUaXkY0NAfG"
      }
    },
    {
      "cell_type": "code",
      "source": [
        "# Autor: Ricardo Roberto de Lima.. - Teoria da Computação.."
      ],
      "metadata": {
        "id": "yYMTH-TcM01-"
      },
      "execution_count": 3,
      "outputs": []
    },
    {
      "cell_type": "code",
      "source": [],
      "metadata": {
        "id": "hke_LVIINOyA"
      },
      "execution_count": null,
      "outputs": []
    }
  ]
}