{
  "nbformat": 4,
  "nbformat_minor": 0,
  "metadata": {
    "colab": {
      "provenance": [],
      "authorship_tag": "ABX9TyNo/+EF2vLiOtXZm3Y7VC/o",
      "include_colab_link": true
    },
    "kernelspec": {
      "name": "python3",
      "display_name": "Python 3"
    },
    "language_info": {
      "name": "python"
    }
  },
  "cells": [
    {
      "cell_type": "markdown",
      "metadata": {
        "id": "view-in-github",
        "colab_type": "text"
      },
      "source": [
        "<a href=\"https://colab.research.google.com/github/ricardoricrob76/automatos/blob/main/Modularizacao_Inicial.ipynb\" target=\"_parent\"><img src=\"https://colab.research.google.com/assets/colab-badge.svg\" alt=\"Open In Colab\"/></a>"
      ]
    },
    {
      "cell_type": "code",
      "source": [
        "def entrada(a, b):\n",
        "  a = float(input(\"Digite o preço da mercadoria:\"))\n",
        "  b = float(input(\"Digite o percentual de desconto:\"))"
      ],
      "metadata": {
        "id": "SYTAKtYxWZpg"
      },
      "execution_count": 6,
      "outputs": []
    },
    {
      "cell_type": "code",
      "source": [
        "# método para calcular valor desconto.\n",
        "def calcular_des(preço, desconto):\n",
        "  val = preço * desconto / 100\n",
        "  return val"
      ],
      "metadata": {
        "id": "JctybYHoUXV-"
      },
      "execution_count": 7,
      "outputs": []
    },
    {
      "cell_type": "code",
      "source": [
        "# Método para calcular o valor a pagar.\n",
        "def calcular_a_pagar(preço, valor_do_desconto):\n",
        "  a_pagar = preço - valor_do_desconto\n",
        "  return a_pagar"
      ],
      "metadata": {
        "id": "IcLtilZZUxYf"
      },
      "execution_count": 8,
      "outputs": []
    },
    {
      "cell_type": "code",
      "execution_count": 10,
      "metadata": {
        "colab": {
          "base_uri": "https://localhost:8080/"
        },
        "id": "J38HGnG6Q0kD",
        "outputId": "23997715-cbcb-40b2-aaf3-563c7f25ad4d"
      },
      "outputs": [
        {
          "output_type": "stream",
          "name": "stdout",
          "text": [
            "Digite o preço da mercadoria:100\n",
            "Digite o percentual de desconto:10\n",
            "Um desconto de  10.0\n",
            "vale R$   10.00.\n",
            "O valor a pagar é de R$   90.00\n"
          ]
        }
      ],
      "source": [
        "entrada(preço, desconto)\n",
        "\n",
        "a = calcular_des(preço, desconto)\n",
        "b = calcular_a_pagar(preço, a)\n",
        "\n",
        "print(\"Um desconto de \", desconto)\n",
        "print(\"vale R$ %7.2f.\" % a)\n",
        "print(\"O valor a pagar é de R$ %7.2f\" % b)"
      ]
    },
    {
      "cell_type": "code",
      "source": [],
      "metadata": {
        "id": "s5AiZ6cjUOLc"
      },
      "execution_count": null,
      "outputs": []
    }
  ]
}